{
 "cells": [
  {
   "cell_type": "code",
   "execution_count": 1,
   "metadata": {
    "collapsed": false
   },
   "outputs": [
    {
     "data": {
      "text/html": [
       "<div>\n",
       "<table border=\"1\" class=\"dataframe\">\n",
       "  <thead>\n",
       "    <tr style=\"text-align: right;\">\n",
       "      <th></th>\n",
       "      <th>sepal length (cm)</th>\n",
       "      <th>sepal width (cm)</th>\n",
       "      <th>petal length (cm)</th>\n",
       "      <th>petal width (cm)</th>\n",
       "    </tr>\n",
       "  </thead>\n",
       "  <tbody>\n",
       "    <tr>\n",
       "      <th>0</th>\n",
       "      <td>5.1</td>\n",
       "      <td>3.5</td>\n",
       "      <td>1.4</td>\n",
       "      <td>0.2</td>\n",
       "    </tr>\n",
       "    <tr>\n",
       "      <th>1</th>\n",
       "      <td>4.9</td>\n",
       "      <td>3.0</td>\n",
       "      <td>1.4</td>\n",
       "      <td>0.2</td>\n",
       "    </tr>\n",
       "    <tr>\n",
       "      <th>2</th>\n",
       "      <td>4.7</td>\n",
       "      <td>3.2</td>\n",
       "      <td>1.3</td>\n",
       "      <td>0.2</td>\n",
       "    </tr>\n",
       "    <tr>\n",
       "      <th>3</th>\n",
       "      <td>4.6</td>\n",
       "      <td>3.1</td>\n",
       "      <td>1.5</td>\n",
       "      <td>0.2</td>\n",
       "    </tr>\n",
       "    <tr>\n",
       "      <th>4</th>\n",
       "      <td>5.0</td>\n",
       "      <td>3.6</td>\n",
       "      <td>1.4</td>\n",
       "      <td>0.2</td>\n",
       "    </tr>\n",
       "  </tbody>\n",
       "</table>\n",
       "</div>"
      ],
      "text/plain": [
       "   sepal length (cm)  sepal width (cm)  petal length (cm)  petal width (cm)\n",
       "0                5.1               3.5                1.4               0.2\n",
       "1                4.9               3.0                1.4               0.2\n",
       "2                4.7               3.2                1.3               0.2\n",
       "3                4.6               3.1                1.5               0.2\n",
       "4                5.0               3.6                1.4               0.2"
      ]
     },
     "execution_count": 1,
     "metadata": {},
     "output_type": "execute_result"
    }
   ],
   "source": [
    "from sklearn.datasets import load_iris\n",
    "iris = load_iris()\n",
    "import pandas as pd\n",
    "pd.DataFrame(data=iris.data,columns=iris.feature_names).head()"
   ]
  },
  {
   "cell_type": "code",
   "execution_count": 9,
   "metadata": {
    "collapsed": false
   },
   "outputs": [
    {
     "name": "stdout",
     "output_type": "stream",
     "text": [
      "[[ 1.4  0.2]\n",
      " [ 1.4  0.2]\n",
      " [ 1.3  0.2]\n",
      " [ 1.5  0.2]\n",
      " [ 1.4  0.2]\n",
      " [ 1.7  0.4]\n",
      " [ 1.4  0.3]\n",
      " [ 1.5  0.2]\n",
      " [ 1.4  0.2]\n",
      " [ 1.5  0.1]\n",
      " [ 1.5  0.2]\n",
      " [ 1.6  0.2]\n",
      " [ 1.4  0.1]\n",
      " [ 1.1  0.1]\n",
      " [ 1.2  0.2]\n",
      " [ 1.5  0.4]\n",
      " [ 1.3  0.4]\n",
      " [ 1.4  0.3]\n",
      " [ 1.7  0.3]\n",
      " [ 1.5  0.3]\n",
      " [ 1.7  0.2]\n",
      " [ 1.5  0.4]\n",
      " [ 1.   0.2]\n",
      " [ 1.7  0.5]\n",
      " [ 1.9  0.2]\n",
      " [ 1.6  0.2]\n",
      " [ 1.6  0.4]\n",
      " [ 1.5  0.2]\n",
      " [ 1.4  0.2]\n",
      " [ 1.6  0.2]\n",
      " [ 1.6  0.2]\n",
      " [ 1.5  0.4]\n",
      " [ 1.5  0.1]\n",
      " [ 1.4  0.2]\n",
      " [ 1.5  0.1]\n",
      " [ 1.2  0.2]\n",
      " [ 1.3  0.2]\n",
      " [ 1.5  0.1]\n",
      " [ 1.3  0.2]\n",
      " [ 1.5  0.2]\n",
      " [ 1.3  0.3]\n",
      " [ 1.3  0.3]\n",
      " [ 1.3  0.2]\n",
      " [ 1.6  0.6]\n",
      " [ 1.9  0.4]\n",
      " [ 1.4  0.3]\n",
      " [ 1.6  0.2]\n",
      " [ 1.4  0.2]\n",
      " [ 1.5  0.2]\n",
      " [ 1.4  0.2]\n",
      " [ 4.7  1.4]\n",
      " [ 4.5  1.5]\n",
      " [ 4.9  1.5]\n",
      " [ 4.   1.3]\n",
      " [ 4.6  1.5]\n",
      " [ 4.5  1.3]\n",
      " [ 4.7  1.6]\n",
      " [ 3.3  1. ]\n",
      " [ 4.6  1.3]\n",
      " [ 3.9  1.4]\n",
      " [ 3.5  1. ]\n",
      " [ 4.2  1.5]\n",
      " [ 4.   1. ]\n",
      " [ 4.7  1.4]\n",
      " [ 3.6  1.3]\n",
      " [ 4.4  1.4]\n",
      " [ 4.5  1.5]\n",
      " [ 4.1  1. ]\n",
      " [ 4.5  1.5]\n",
      " [ 3.9  1.1]\n",
      " [ 4.8  1.8]\n",
      " [ 4.   1.3]\n",
      " [ 4.9  1.5]\n",
      " [ 4.7  1.2]\n",
      " [ 4.3  1.3]\n",
      " [ 4.4  1.4]\n",
      " [ 4.8  1.4]\n",
      " [ 5.   1.7]\n",
      " [ 4.5  1.5]\n",
      " [ 3.5  1. ]\n",
      " [ 3.8  1.1]\n",
      " [ 3.7  1. ]\n",
      " [ 3.9  1.2]\n",
      " [ 5.1  1.6]\n",
      " [ 4.5  1.5]\n",
      " [ 4.5  1.6]\n",
      " [ 4.7  1.5]\n",
      " [ 4.4  1.3]\n",
      " [ 4.1  1.3]\n",
      " [ 4.   1.3]\n",
      " [ 4.4  1.2]\n",
      " [ 4.6  1.4]\n",
      " [ 4.   1.2]\n",
      " [ 3.3  1. ]\n",
      " [ 4.2  1.3]\n",
      " [ 4.2  1.2]\n",
      " [ 4.2  1.3]\n",
      " [ 4.3  1.3]\n",
      " [ 3.   1.1]\n",
      " [ 4.1  1.3]]\n"
     ]
    }
   ],
   "source": [
    "X = iris.data[:100,[2,3]]\n",
    "print(X)"
   ]
  },
  {
   "cell_type": "code",
   "execution_count": 10,
   "metadata": {
    "collapsed": false
   },
   "outputs": [
    {
     "name": "stdout",
     "output_type": "stream",
     "text": [
      "[0 0 0 0 0 0 0 0 0 0 0 0 0 0 0 0 0 0 0 0 0 0 0 0 0 0 0 0 0 0 0 0 0 0 0 0 0\n",
      " 0 0 0 0 0 0 0 0 0 0 0 0 0 1 1 1 1 1 1 1 1 1 1 1 1 1 1 1 1 1 1 1 1 1 1 1 1\n",
      " 1 1 1 1 1 1 1 1 1 1 1 1 1 1 1 1 1 1 1 1 1 1 1 1 1 1]\n"
     ]
    }
   ],
   "source": [
    "y = iris.target[:100]\n",
    "print(y)"
   ]
  },
  {
   "cell_type": "code",
   "execution_count": 11,
   "metadata": {
    "collapsed": false
   },
   "outputs": [
    {
     "name": "stdout",
     "output_type": "stream",
     "text": [
      "(70, 2)\n",
      "(30, 2)\n",
      "(70,)\n",
      "(30,)\n"
     ]
    }
   ],
   "source": [
    "from sklearn.cross_validation import train_test_split\n",
    "X_train, X_test,y_train,y_test = train_test_split(X, y, test_size=0.3, random_state=0)\n",
    "print(X_train.shape)\n",
    "print(X_test.shape)\n",
    "print(y_train.shape)\n",
    "print(y_test.shape)"
   ]
  },
  {
   "cell_type": "code",
   "execution_count": 14,
   "metadata": {
    "collapsed": false
   },
   "outputs": [
    {
     "name": "stdout",
     "output_type": "stream",
     "text": [
      "[0 1 0 1 1 1 0 1 1 1 1 1 1 0 0 0 0 0 0 0 0 1 0 1 0 0 0 1 1 1]\n"
     ]
    }
   ],
   "source": [
    "from sklearn.linear_model import LogisticRegression\n",
    "lr = LogisticRegression()\n",
    "lr.fit(X_train, y_train)\n",
    "y_p = lr.predict(X_test)\n",
    "print(y_p)"
   ]
  },
  {
   "cell_type": "code",
   "execution_count": 15,
   "metadata": {
    "collapsed": false
   },
   "outputs": [
    {
     "name": "stdout",
     "output_type": "stream",
     "text": [
      "誤分類の個数: 0\n"
     ]
    }
   ],
   "source": [
    "print('誤分類の個数:', (y_test !=y_p).sum())"
   ]
  },
  {
   "cell_type": "code",
   "execution_count": 19,
   "metadata": {
    "collapsed": false
   },
   "outputs": [
    {
     "name": "stdout",
     "output_type": "stream",
     "text": [
      "[[ 0.97047281  1.54188626]]\n",
      "[-3.40679487]\n",
      "正答率: 1.0\n"
     ]
    }
   ],
   "source": [
    "print(lr.coef_)\n",
    "print(lr.intercept_)\n",
    "# ロジスティック回帰の場合は、シグモイド関数をかけて0~1に変換するため、説明変数にかかる重みが1単位増えた時に確率がなん%上昇するかが直接はわからない\n",
    "from sklearn.metrics import accuracy_score\n",
    "print('正答率:',accuracy_score(y_test, y_p))\n",
    "# 仕事で使われる膨大なデータの場合、正答率が100%になることは滅多に無いため、目標値を決めてそこに達するようにモデルを調整する必要が出てくる"
   ]
  },
  {
   "cell_type": "code",
   "execution_count": 25,
   "metadata": {
    "collapsed": false
   },
   "outputs": [
    {
     "name": "stdout",
     "output_type": "stream",
     "text": [
      "[0 0 0 0 0 0 0 0 0 0 0 0 0 0 0 0 0 0 0 0 0 0 0 0 0 0 0 0 0 0 0 0 0 0 0 0 0\n",
      " 0 0 0 0 0 0 0 0 0 0 0 0 0 1 1 1 1 1 1 1 1 1 1 1 1 1 1 1 1 1 1 1 1 1 1 1 1\n",
      " 1 1 1 1 1 1 1 1 1 1 1 1 1 1 1 1 1 1 1 1 1 1 1 1 1 1]\n"
     ]
    },
    {
     "data": {
      "text/plain": [
       "array([0, 1])"
      ]
     },
     "execution_count": 25,
     "metadata": {},
     "output_type": "execute_result"
    }
   ],
   "source": [
    "# ここからは散布図の作成\n",
    "import numpy as np\n",
    "from matplotlib.colors import ListedColormap\n",
    "import matplotlib.pyplot as plt\n",
    "%matplotlib inline\n",
    "\n",
    "markers = ('o', '^')\n",
    "colors = ('red', 'lightgreen')\n",
    "cmap = ListedColormap(colors)\n",
    "print(y)\n",
    "np.unique(y)"
   ]
  },
  {
   "cell_type": "code",
   "execution_count": 30,
   "metadata": {
    "collapsed": false
   },
   "outputs": [
    {
     "data": {
      "image/png": "[encoded data removed]",
      "text/plain": [
       "<matplotlib.figure.Figure at 0x125a10048>"
      ]
     },
     "metadata": {},
     "output_type": "display_data"
    }
   ],
   "source": [
    "# トレーニングデータのプロット\n",
    "for i, n in enumerate(np.unique(y)):\n",
    "    plt.scatter(x=X_train[y_train == n, 0],\n",
    "                        y=X_train[y_train == n,1],\n",
    "                        c=cmap(i),\n",
    "                        marker=markers[i],\n",
    "                        s=70,\n",
    "                        edgecolors='',\n",
    "                        label=n)\n",
    "    #テストデータは色・マーカーを変えてプロット\n",
    "    plt.scatter(X_test[:,0], # X_testの0列目の全ての行を取得\n",
    "               X_test[:,1], # X_testの1行目の全ての行を取得\n",
    "               c='k',\n",
    "               marker='v',\n",
    "               label='test data')\n",
    "    \n",
    "    plt.xlabel('Petal Length')\n",
    "    plt.ylabel('Petal Width')\n",
    "    \n",
    "    #凡例の表示\n",
    "    plt.legend(loc='lower right')\n",
    "    \n",
    "    #赤い点がクラスラベル0のデータ、緑の点がクラスラベル1のデータ、黒い点がテストデータ"
   ]
  },
  {
   "cell_type": "code",
   "execution_count": 33,
   "metadata": {
    "collapsed": false
   },
   "outputs": [
    {
     "name": "stdout",
     "output_type": "stream",
     "text": [
      "0.0\n",
      "6.1\n",
      "-0.9\n",
      "2.8\n"
     ]
    }
   ],
   "source": [
    "# ここから決定領域の可視化\n",
    "# データの最小値、最大値を計算\n",
    "X_min, X_max = X[:,0].min()-1, X[:,0].max()+1\n",
    "y_min, y_max = X[:,1].min()-1, X[:,1].max()+1\n",
    "print(X_min)\n",
    "print(X_max)\n",
    "print(y_min)\n",
    "print(y_max)"
   ]
  },
  {
   "cell_type": "code",
   "execution_count": 34,
   "metadata": {
    "collapsed": false
   },
   "outputs": [
    {
     "name": "stdout",
     "output_type": "stream",
     "text": [
      "(185, 305)\n",
      "[[ 0.    0.02  0.04 ...,  6.04  6.06  6.08]\n",
      " [ 0.    0.02  0.04 ...,  6.04  6.06  6.08]\n",
      " [ 0.    0.02  0.04 ...,  6.04  6.06  6.08]\n",
      " ..., \n",
      " [ 0.    0.02  0.04 ...,  6.04  6.06  6.08]\n",
      " [ 0.    0.02  0.04 ...,  6.04  6.06  6.08]\n",
      " [ 0.    0.02  0.04 ...,  6.04  6.06  6.08]]\n",
      "(185, 305)\n",
      "[[-0.9  -0.9  -0.9  ..., -0.9  -0.9  -0.9 ]\n",
      " [-0.88 -0.88 -0.88 ..., -0.88 -0.88 -0.88]\n",
      " [-0.86 -0.86 -0.86 ..., -0.86 -0.86 -0.86]\n",
      " ..., \n",
      " [ 2.74  2.74  2.74 ...,  2.74  2.74  2.74]\n",
      " [ 2.76  2.76  2.76 ...,  2.76  2.76  2.76]\n",
      " [ 2.78  2.78  2.78 ...,  2.78  2.78  2.78]]\n"
     ]
    }
   ],
   "source": [
    "x_axis, y_axis = np.meshgrid(np.arange(X_min,X_max,0.02),\n",
    "                            np.arange(y_min, y_max, 0.02))\n",
    "print(x_axis.shape)\n",
    "print(x_axis)\n",
    "print(y_axis.shape)\n",
    "print(y_axis)"
   ]
  },
  {
   "cell_type": "code",
   "execution_count": 36,
   "metadata": {
    "collapsed": false
   },
   "outputs": [
    {
     "name": "stdout",
     "output_type": "stream",
     "text": [
      "(56425, 2)\n"
     ]
    }
   ],
   "source": [
    "# grid_pointsを作成\n",
    "grid_points = np.concatenate((x_axis.reshape(-1,1),\n",
    "                             y_axis.reshape(-1,1)), axis=1)\n",
    "# 構造の確認\n",
    "print(grid_points.shape)"
   ]
  },
  {
   "cell_type": "code",
   "execution_count": 37,
   "metadata": {
    "collapsed": false
   },
   "outputs": [
    {
     "name": "stdout",
     "output_type": "stream",
     "text": [
      "[0 0 0 ..., 1 1 1]\n",
      "(56425,)\n"
     ]
    }
   ],
   "source": [
    "# 学習は終わっているので、grid_pointsに対する予測を行ってみる\n",
    "pred_label  = lr.predict(grid_points)\n",
    "# pred_labelは予測された品種の番号を格納している\n",
    "print(pred_label)\n",
    "# predictメソッドに渡した1次元のままであることを確認\n",
    "print(pred_label.shape)"
   ]
  },
  {
   "cell_type": "code",
   "execution_count": 39,
   "metadata": {
    "collapsed": true
   },
   "outputs": [],
   "source": [
    "# 今まで作成したデータを使ってグラフの描画を\n",
    "# matplotlabでの等高線の描画はcontourfメソッドを使用する"
   ]
  },
  {
   "cell_type": "code",
   "execution_count": 41,
   "metadata": {
    "collapsed": false
   },
   "outputs": [
    {
     "name": "stdout",
     "output_type": "stream",
     "text": [
      "(185, 305)\n",
      "(185, 305)\n",
      "(185, 305)\n"
     ]
    }
   ],
   "source": [
    "# 配列の列数を合わせる\n",
    "pred_label = pred_label.reshape(x_axis.shape)\n",
    "print(pred_label.shape)\n",
    "print(x_axis.shape)\n",
    "print(y_axis.shape)"
   ]
  },
  {
   "cell_type": "code",
   "execution_count": 42,
   "metadata": {
    "collapsed": false
   },
   "outputs": [
    {
     "data": {
      "text/plain": [
       "<matplotlib.contour.QuadContourSet at 0x1264c00b8>"
      ]
     },
     "execution_count": 42,
     "metadata": {},
     "output_type": "execute_result"
    },
    {
     "data": {
      "image/png": "[encoded data removed]",
      "text/plain": [
       "<matplotlib.figure.Figure at 0x1264c0f98>"
      ]
     },
     "metadata": {},
     "output_type": "display_data"
    }
   ],
   "source": [
    "plt.xlabel('Petal length')\n",
    "plt.ylabel('Petal width')\n",
    "plt.xlim(x_axis.min(), x_axis.max())\n",
    "plt.ylim(y_axis.min(), y_axis.max())\n",
    "# coutourfメソッドを使って領域の塗りつぶしを\n",
    "plt.contourf(x_axis, y_axis, pred_label, alpha=0.3, cmap=cmap)"
   ]
  },
  {
   "cell_type": "code",
   "execution_count": 43,
   "metadata": {
    "collapsed": false
   },
   "outputs": [
    {
     "data": {
      "text/plain": [
       "<matplotlib.contour.QuadContourSet at 0x126a97f60>"
      ]
     },
     "execution_count": 43,
     "metadata": {},
     "output_type": "execute_result"
    },
    {
     "data": {
      "image/png": "[encoded data removed]",
      "text/plain": [
       "<matplotlib.figure.Figure at 0x126a97d30>"
      ]
     },
     "metadata": {},
     "output_type": "display_data"
    }
   ],
   "source": [
    "# トレーニングデータのプロット\n",
    "for i, n in enumerate(np.unique(y)):\n",
    "    plt.scatter(x=X_train[y_train == n, 0],\n",
    "                        y=X_train[y_train == n,1],\n",
    "                        c=cmap(i),\n",
    "                        marker=markers[i],\n",
    "                        s=70,\n",
    "                        edgecolors='',\n",
    "                        label=n)\n",
    "    #テストデータは色・マーカーを変えてプロット\n",
    "    plt.scatter(X_test[:,0], # X_testの0列目の全ての行を取得\n",
    "               X_test[:,1], # X_testの1行目の全ての行を取得\n",
    "               c='k',\n",
    "               marker='v',\n",
    "               label='test data')\n",
    "\n",
    "plt.xlabel('Petal length')\n",
    "plt.ylabel('Petal width')\n",
    "plt.xlim(x_axis.min(), x_axis.max())\n",
    "plt.ylim(y_axis.min(), y_axis.max())\n",
    "# coutourfメソッドを使って領域の塗りつぶしを\n",
    "plt.contourf(x_axis, y_axis, pred_label, alpha=0.3, cmap=cmap)\n"
   ]
  },
  {
   "cell_type": "code",
   "execution_count": null,
   "metadata": {
    "collapsed": true
   },
   "outputs": [],
   "source": []
  }
 ],
 "metadata": {
  "kernelspec": {
   "display_name": "Python 3",
   "language": "python",
   "name": "python3"
  },
  "language_info": {
   "codemirror_mode": {
    "name": "ipython",
    "version": 3
   },
   "file_extension": ".py",
   "mimetype": "text/x-python",
   "name": "python",
   "nbconvert_exporter": "python",
   "pygments_lexer": "ipython3",
   "version": "3.5.1"
  }
 },
 "nbformat": 4,
 "nbformat_minor": 0
}
