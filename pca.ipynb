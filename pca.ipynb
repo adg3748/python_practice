{
 "cells": [
  {
   "cell_type": "code",
   "execution_count": 1,
   "metadata": {
    "collapsed": false
   },
   "outputs": [
    {
     "data": {
      "text/html": [
       "<div>\n",
       "<table border=\"1\" class=\"dataframe\">\n",
       "  <thead>\n",
       "    <tr style=\"text-align: right;\">\n",
       "      <th></th>\n",
       "      <th>Name</th>\n",
       "      <th>Total</th>\n",
       "      <th>HP</th>\n",
       "      <th>Attack</th>\n",
       "      <th>Defense</th>\n",
       "      <th>Sp. Atk</th>\n",
       "      <th>Sp. Def</th>\n",
       "      <th>Speed</th>\n",
       "      <th>Legendary</th>\n",
       "    </tr>\n",
       "  </thead>\n",
       "  <tbody>\n",
       "    <tr>\n",
       "      <th>0</th>\n",
       "      <td>Bulbasaur</td>\n",
       "      <td>318</td>\n",
       "      <td>45</td>\n",
       "      <td>49</td>\n",
       "      <td>49</td>\n",
       "      <td>65</td>\n",
       "      <td>65</td>\n",
       "      <td>45</td>\n",
       "      <td>False</td>\n",
       "    </tr>\n",
       "    <tr>\n",
       "      <th>1</th>\n",
       "      <td>Ivysaur</td>\n",
       "      <td>405</td>\n",
       "      <td>60</td>\n",
       "      <td>62</td>\n",
       "      <td>63</td>\n",
       "      <td>80</td>\n",
       "      <td>80</td>\n",
       "      <td>60</td>\n",
       "      <td>False</td>\n",
       "    </tr>\n",
       "    <tr>\n",
       "      <th>2</th>\n",
       "      <td>Venusaur</td>\n",
       "      <td>525</td>\n",
       "      <td>80</td>\n",
       "      <td>82</td>\n",
       "      <td>83</td>\n",
       "      <td>100</td>\n",
       "      <td>100</td>\n",
       "      <td>80</td>\n",
       "      <td>False</td>\n",
       "    </tr>\n",
       "    <tr>\n",
       "      <th>3</th>\n",
       "      <td>Charmander</td>\n",
       "      <td>309</td>\n",
       "      <td>39</td>\n",
       "      <td>52</td>\n",
       "      <td>43</td>\n",
       "      <td>60</td>\n",
       "      <td>50</td>\n",
       "      <td>65</td>\n",
       "      <td>False</td>\n",
       "    </tr>\n",
       "    <tr>\n",
       "      <th>4</th>\n",
       "      <td>Charmeleon</td>\n",
       "      <td>405</td>\n",
       "      <td>58</td>\n",
       "      <td>64</td>\n",
       "      <td>58</td>\n",
       "      <td>80</td>\n",
       "      <td>65</td>\n",
       "      <td>80</td>\n",
       "      <td>False</td>\n",
       "    </tr>\n",
       "  </tbody>\n",
       "</table>\n",
       "</div>"
      ],
      "text/plain": [
       "         Name  Total  HP  Attack  Defense  Sp. Atk  Sp. Def  Speed Legendary\n",
       "0   Bulbasaur    318  45      49       49       65       65     45     False\n",
       "1     Ivysaur    405  60      62       63       80       80     60     False\n",
       "2    Venusaur    525  80      82       83      100      100     80     False\n",
       "3  Charmander    309  39      52       43       60       50     65     False\n",
       "4  Charmeleon    405  58      64       58       80       65     80     False"
      ]
     },
     "execution_count": 1,
     "metadata": {},
     "output_type": "execute_result"
    }
   ],
   "source": [
    "# 次元を削減するために主成分分析(pca)を行う\n",
    "import pandas as pd\n",
    "pokemon = pd.read_csv('https://raw.githubusercontent.com/we-b/datasets_for_ai/master/poke.csv')\n",
    "pokemon.head()"
   ]
  },
  {
   "cell_type": "code",
   "execution_count": 11,
   "metadata": {
    "collapsed": false
   },
   "outputs": [],
   "source": [
    "import numpy as np\n",
    "X = np.array(pokemon) # 分析用データにするためにnumpy配列に変換\n",
    "X = X[:,2:8]"
   ]
  },
  {
   "cell_type": "code",
   "execution_count": 12,
   "metadata": {
    "collapsed": false
   },
   "outputs": [
    {
     "name": "stdout",
     "output_type": "stream",
     "text": [
      "[[ -32.51693378  -10.25507669]\n",
      " [   2.48189733   -9.98844724]\n",
      " [  50.64577331   -7.87828927]\n",
      " [ -38.8412626   -21.17420807]\n",
      " [   0.18699222  -21.63253347]\n",
      " [  52.80307074  -23.0589564 ]\n",
      " [ -37.16150087    4.62105899]\n",
      " [  -0.5666316     6.06844414]\n",
      " [  49.95705578    7.5024355 ]\n",
      " [ -88.0191591    -1.34868221]\n",
      " [ -84.05216172   12.39571392]\n",
      " [  -0.31787084  -33.10710486]\n",
      " [ -87.94563852   -6.20266177]\n",
      " [ -83.97864115    7.54173437]\n",
      " [  -3.18890354   -4.29238677]\n",
      " [ -64.47486149   -8.30903105]\n",
      " [ -24.9987157    -4.50420808]\n",
      " [  26.29733455   -8.03715293]\n",
      " [ -65.50918035  -14.45520928]\n",
      " [  -0.58471256  -13.16984504]\n",
      " [ -60.6754789   -13.40493038]\n",
      " [  10.94588214   -9.00622264]\n",
      " [ -48.04247984   -5.63352518]\n",
      " [  12.16236514   -2.99582772]\n",
      " [ -37.27241343  -32.84966326]\n",
      " [  32.35290877  -35.24798315]\n",
      " [ -49.38587465   45.54208419]\n",
      " [  10.81897033   48.17978165]\n",
      " [ -53.69156007    8.76647879]\n",
      " [ -17.56865308   10.34909727]\n",
      " [  39.46390376   15.06451855]\n",
      " [ -54.02711002   -1.14833392]\n",
      " [ -17.31567451    1.483224  ]\n",
      " [  39.94415123    3.62144418]\n",
      " [ -29.59757011    2.18967403]\n",
      " [  35.55416657    0.89783716]\n",
      " [ -42.57463159  -25.47771449]\n",
      " [  39.7333947   -20.21312432]\n",
      " [ -49.97209146   19.77271079]\n",
      " [  17.65309107   16.51610676]\n",
      " [ -66.37303469   -9.07846882]\n",
      " [  17.91374828   -5.38569237]\n",
      " [ -30.08781207   -2.17737881]\n",
      " [  -0.36424947    4.86772486]\n",
      " [  39.13946208    5.34236042]\n",
      " [ -47.10762952   18.92254626]\n",
      " [   1.88597523   36.77598369]\n",
      " [ -40.53276398    7.98675343]\n",
      " [  19.01897354  -27.779498  ]\n",
      " [ -60.3793105   -43.91218142]\n",
      " [  -5.12135723  -37.34494964]\n",
      " [ -50.46353307  -32.75886303]\n",
      " [   9.74131191  -30.12116557]\n",
      " [ -33.41796633  -11.81799263]\n",
      " [  38.82784765   -8.65275568]\n",
      " [ -42.31981286   -6.33246895]\n",
      " [  17.88503212   -3.69477149]\n",
      " [ -20.69714739   -9.66516879]\n",
      " [  60.83090734   -1.3526603 ]\n",
      " [ -46.91768271  -28.15771616]\n",
      " [ -13.19210321   -7.44705685]\n",
      " [  41.0697963    25.12201751]\n",
      " [ -33.77455599  -84.87935516]\n",
      " [   2.34835099  -83.29673668]\n",
      " [  43.19088079  -83.06645143]\n",
      " [ -41.01343608   30.97103682]\n",
      " [  -0.28691732   37.23514254]\n",
      " [  41.64601684   42.2121476 ]\n",
      " [ -39.36462942   -0.32907344]\n",
      " [  -3.24172244    1.25354504]\n",
      " [  37.60080736    1.48383029]\n",
      " [ -25.53778206  -35.4949893 ]\n",
      " [  46.17995761  -28.19966351]\n",
      " [ -48.40638697   59.96684395]\n",
      " [ -12.28347998   61.54946243]\n",
      " [  30.50031198   73.97758503]\n",
      " [   0.37581924  -16.86599574]\n",
      " [  36.49872623  -15.28337726]\n",
      " [ -35.87105343   47.10247094]\n",
      " [  36.87377367   38.59888959]\n",
      " [ -30.40811019  -20.77362873]\n",
      " [  25.07711198  -16.78359805]\n",
      " [ -21.35922098   -4.13995522]\n",
      " [ -42.5519511    -1.96706949]\n",
      " [  17.65289387    0.67062797]\n",
      " [ -31.56184639    4.04711631]\n",
      " [  28.64299859    6.68481377]\n",
      " [ -30.40118177   35.39862828]\n",
      " [  41.60272023   34.65549268]\n",
      " [ -47.49664788   34.74835299]\n",
      " [  35.49809976   58.78211921]\n",
      " [ -36.08609641  -59.37450032]\n",
      " [   2.39662198  -58.46804845]\n",
      " [  40.87934037  -57.56159659]\n",
      " [ -24.62770293   45.9505475 ]\n",
      " [ -27.84533088   -1.62500847]\n",
      " [  34.83295994   -0.95207818]\n",
      " [ -40.60466747   47.55000777]\n",
      " [  19.60017751   50.18770523]\n",
      " [ -34.64121013  -44.39411618]\n",
      " [  24.62027163  -56.21109764]\n",
      " [ -34.32034963   14.0992662 ]\n",
      " [  50.93351383   11.49924662]\n",
      " [ -39.04893523   33.15060636]\n",
      " [   4.24168581   42.03856057]\n",
      " [  19.76696915    3.33268703]\n",
      " [  17.74886129   17.23991805]\n",
      " [  -5.96674419   27.33268243]\n",
      " [ -29.48292466   29.1263435 ]\n",
      " [  30.72192032   31.76404096]\n",
      " [ -29.47089811   67.6127647 ]\n",
      " [  26.23337419   89.09062561]\n",
      " [  27.81023075    9.75653986]\n",
      " [   7.99036493   13.45280266]\n",
      " [  29.64720568   23.27633571]\n",
      " [ -48.0656432   -11.9897714 ]\n",
      " [   9.77939037   -8.67590733]\n",
      " [ -38.09391801    6.29728172]\n",
      " [  18.98609889    9.86861229]\n",
      " [ -28.41577407  -36.04277566]\n",
      " [  43.8300399   -32.87753871]\n",
      " [  25.8027276   -51.42064317]\n",
      " [  33.31897194    5.1316301 ]\n",
      " [  26.71556758  -63.56656729]\n",
      " [  35.40004104  -35.39986583]\n",
      " [  39.09374744  -25.84379376]\n",
      " [  32.34809874   32.80708036]\n",
      " [  25.10577889   14.85504047]\n",
      " [ -92.42169709  -23.50496267]\n",
      " [  54.12263925   26.36195741]\n",
      " [  55.92094298   23.4810324 ]\n",
      " [ -47.46206169   -3.05573539]\n",
      " [ -32.30329531   -2.36232759]\n",
      " [  55.67085795   -7.5689423 ]\n",
      " [  48.78492537  -62.30452221]\n",
      " [  55.05376666    3.96582529]\n",
      " [  -0.34300425    4.2778044 ]\n",
      " [ -20.9197248     7.32488674]\n",
      " [  35.11642972   14.93542619]\n",
      " [ -25.13130474   20.34119559]\n",
      " [  30.95539233   28.97497169]\n",
      " [  38.96609753  -17.33281596]\n",
      " [  62.24339767   56.60112211]\n",
      " [  71.97623006    0.76511325]\n",
      " [  72.65705176  -20.64322522]\n",
      " [  72.78544548   -7.74401066]\n",
      " [ -42.0807078    -2.4264131 ]\n",
      " [   6.08316818   -0.31625513]\n",
      " [  80.36274973   22.05038054]\n",
      " [ 112.87547553  -33.98623258]\n",
      " [  77.76401586    2.43067533]]\n"
     ]
    }
   ],
   "source": [
    "from sklearn.decomposition import PCA\n",
    "\n",
    "# 主成分を2に設定したインスタンスを作成\n",
    "pca = PCA(n_components=2)\n",
    "# PCAのインスタンスでポケモンのデータを学習\n",
    "pca.fit(X)\n",
    "# データについて学習したPCAで主成分を抽出する\n",
    "X_pca = pca.transform(X)\n",
    "# 1列目が第一主成分軸、2列目が第二主成分軸\n",
    "print(X_pca)"
   ]
  },
  {
   "cell_type": "code",
   "execution_count": 13,
   "metadata": {
    "collapsed": false
   },
   "outputs": [
    {
     "data": {
      "image/png": "[encoded data removed]",
      "text/plain": [
       "<Figure size 800x800 with 1 Axes>"
      ]
     },
     "metadata": {},
     "output_type": "display_data"
    }
   ],
   "source": [
    "# 特徴抽出の効果を確認\n",
    "import numpy as np\n",
    "%matplotlib inline\n",
    "import matplotlib.pyplot as plt\n",
    "\n",
    "x=X_pca[:,0]\n",
    "y=X_pca[:,1]\n",
    "fig,ax=plt.subplots(figsize=(8,8)) # これ何してる\n",
    "plt.scatter(x,y)\n",
    "plt.show()"
   ]
  },
  {
   "cell_type": "code",
   "execution_count": 14,
   "metadata": {
    "collapsed": false
   },
   "outputs": [
    {
     "data": {
      "text/plain": [
       "array([ 0.38949774,  0.21741941])"
      ]
     },
     "execution_count": 14,
     "metadata": {},
     "output_type": "execute_result"
    }
   ],
   "source": [
    "# 寄与率、因子負荷量を用いて主成分分析の評価を\n",
    "\n",
    "# 寄与率\n",
    "pca.explained_variance_ratio_\n",
    "# 第一主成分で40％、第二主成分で20％ほど、元のデータの説明ができているとわかる\n",
    "# 仮に主成分を6とした場合、元の次元数と同じなため足して100％の説明ができる"
   ]
  },
  {
   "cell_type": "code",
   "execution_count": 15,
   "metadata": {
    "collapsed": false
   },
   "outputs": [
    {
     "data": {
      "text/plain": [
       "array([[ 0.41915485,  0.41490581,  0.29426427,  0.49468917,  0.47196228,\n",
       "         0.31321743],\n",
       "       [ 0.27777556,  0.39575965,  0.52446972, -0.39295343, -0.13523332,\n",
       "        -0.56431028]])"
      ]
     },
     "execution_count": 15,
     "metadata": {},
     "output_type": "execute_result"
    }
   ],
   "source": [
    "# 因子負荷量(特徴量の各主成分への影響)\n",
    "pca.components_\n",
    "# 値は係数を表す"
   ]
  },
  {
   "cell_type": "code",
   "execution_count": 20,
   "metadata": {
    "collapsed": false
   },
   "outputs": [
    {
     "data": {
      "image/png": "[encoded data removed]",
      "text/plain": [
       "<Figure size 800x800 with 1 Axes>"
      ]
     },
     "metadata": {},
     "output_type": "display_data"
    }
   ],
   "source": [
    "# 因子負荷量も可視化してプロット\n",
    "fig, ax = plt.subplots(figsize=(8,8))\n",
    "plt.scatter(x, y)\n",
    "for i in range(pca.components_.shape[1]):\n",
    "    x1=pca.components_[0,i]*100\n",
    "    y1=pca.components_[1,i]*100\n",
    "    ax.arrow(0, 0, x1, y1,  head_width=5, head_length=10, fc='k', ec='k')\n",
    "plt.show()"
   ]
  },
  {
   "cell_type": "code",
   "execution_count": null,
   "metadata": {
    "collapsed": true
   },
   "outputs": [],
   "source": [
    "# 特徴抽出は主成分分析以外にもたくさんあるからチャレンジしよう"
   ]
  }
 ],
 "metadata": {
  "kernelspec": {
   "display_name": "Python 3",
   "language": "python",
   "name": "python3"
  },
  "language_info": {
   "codemirror_mode": {
    "name": "ipython",
    "version": 3
   },
   "file_extension": ".py",
   "mimetype": "text/x-python",
   "name": "python",
   "nbconvert_exporter": "python",
   "pygments_lexer": "ipython3",
   "version": "3.5.4"
  }
 },
 "nbformat": 4,
 "nbformat_minor": 0
}
