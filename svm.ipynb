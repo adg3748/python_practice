{
 "cells": [
  {
   "cell_type": "code",
   "execution_count": 3,
   "metadata": {
    "collapsed": true
   },
   "outputs": [],
   "source": [
    "# サポートベクトルマシンの実装\n",
    "from sklearn import datasets\n",
    "from sklearn.cross_validation import train_test_split\n",
    "import numpy as np\n",
    "\n",
    "iris=datasets.load_iris()\n",
    "X=iris.data[:,[2,3]]"
   ]
  },
  {
   "cell_type": "code",
   "execution_count": 4,
   "metadata": {
    "collapsed": false
   },
   "outputs": [
    {
     "name": "stdout",
     "output_type": "stream",
     "text": [
      "(100, 2)\n",
      "[0 0 0 0 0 0 0 0 0 0 0 0 0 0 0 0 0 0 0 0 0 0 0 0 0 0 0 0 0 0 0 0 0 0 0 0 0\n",
      " 0 0 0 0 0 0 0 0 0 0 0 0 0 1 1 1 1 1 1 1 1 1 1 1 1 1 1 1 1 1 1 1 1 1 1 1 1\n",
      " 1 1 1 1 1 1 1 1 1 1 1 1 1 1 1 1 1 1 1 1 1 1 1 1 1 1]\n"
     ]
    }
   ],
   "source": [
    "X=X[0:100] # 先頭から100個のデータを抽出\n",
    "y=iris.target[0:100] # 特徴量も同じく先頭から100個の目的変数を抽出\n",
    "print(X.shape)\n",
    "print(y)"
   ]
  },
  {
   "cell_type": "code",
   "execution_count": 6,
   "metadata": {
    "collapsed": false
   },
   "outputs": [
    {
     "name": "stdout",
     "output_type": "stream",
     "text": [
      "(70, 2)\n",
      "(30, 2)\n",
      "(70,)\n",
      "(30,)\n"
     ]
    }
   ],
   "source": [
    "X_train, X_test, y_train, y_test = train_test_split(X,y,test_size=0.3,random_state=0)\n",
    "print(X_train.shape)\n",
    "print(X_test.shape)\n",
    "print(y_train.shape)\n",
    "print(y_test.shape)"
   ]
  },
  {
   "cell_type": "code",
   "execution_count": 7,
   "metadata": {
    "collapsed": false
   },
   "outputs": [
    {
     "data": {
      "text/plain": [
       "SVC(C=1.0, cache_size=200, class_weight=None, coef0=0.0,\n",
       "  decision_function_shape=None, degree=3, gamma='auto', kernel='linear',\n",
       "  max_iter=-1, probability=False, random_state=None, shrinking=True,\n",
       "  tol=0.001, verbose=False)"
      ]
     },
     "execution_count": 7,
     "metadata": {},
     "output_type": "execute_result"
    }
   ],
   "source": [
    "# ライブラリの読み込み\n",
    "from sklearn.svm import SVC\n",
    "svm = SVC(kernel='linear')\n",
    "svm.fit(X_train, y_train)"
   ]
  },
  {
   "cell_type": "code",
   "execution_count": 10,
   "metadata": {
    "collapsed": false
   },
   "outputs": [
    {
     "name": "stdout",
     "output_type": "stream",
     "text": [
      "正答率 1.0\n"
     ]
    }
   ],
   "source": [
    "# 正答率計算用のモジュールの読み込み\n",
    "from sklearn.metrics import accuracy_score\n",
    "# 予測結果を変数に代入\n",
    "y_predicted = svm.predict(X_test)\n",
    "# 正答率を算出\n",
    "print('正答率', accuracy_score(y_test, y_predicted))"
   ]
  },
  {
   "cell_type": "code",
   "execution_count": 14,
   "metadata": {
    "collapsed": false
   },
   "outputs": [
    {
     "data": {
      "text/plain": [
       "<matplotlib.legend.Legend at 0x11e832da0>"
      ]
     },
     "execution_count": 14,
     "metadata": {},
     "output_type": "execute_result"
    },
    {
     "data": {
      "image/png": "[encoded data removed]",
      "text/plain": [
       "<matplotlib.figure.Figure at 0x11de71780>"
      ]
     },
     "metadata": {},
     "output_type": "display_data"
    }
   ],
   "source": [
    "import matplotlib.pyplot as plt\n",
    "%matplotlib inline\n",
    "\n",
    "plt.scatter(X[:50, 0],X[:50,1], color='blue',marker='o', label='setosa')\n",
    "plt.scatter(X[50:100,0], X[50:100,1],color='red',marker='o',label='versicolor')\n",
    "plt.legend() # 右上の青と赤の説明を表示するメソッド"
   ]
  },
  {
   "cell_type": "code",
   "execution_count": 23,
   "metadata": {
    "collapsed": false
   },
   "outputs": [
    {
     "name": "stdout",
     "output_type": "stream",
     "text": [
      "(185, 305)\n",
      "(185, 305)\n",
      "56425\n",
      "(56425, 2)\n"
     ]
    }
   ],
   "source": [
    "X_min,X_max=X[:,0].min()-1, X[:,0].max()+1\n",
    "y_min,y_max=X[:,1].min()-1,X[:,1].max()+1\n",
    "X_axis,y_axis=np.meshgrid(np.arange(X_min,X_max,0.02),\n",
    "                         np.arange(y_min,y_max,0.02))\n",
    "print(X_axis.shape)\n",
    "print(y_axis.shape)\n",
    "data_num=X_axis.shape[0]*X_axis.shape[1]\n",
    "print(data_num)\n",
    "grid_points=np.concatenate((X_axis.reshape(data_num,1),y_axis.reshape(data_num,1)),axis=1)\n",
    "print(grid_points.shape)"
   ]
  },
  {
   "cell_type": "code",
   "execution_count": 25,
   "metadata": {
    "collapsed": false
   },
   "outputs": [
    {
     "name": "stdout",
     "output_type": "stream",
     "text": [
      "(185, 305)\n"
     ]
    }
   ],
   "source": [
    "class_labels = svm.predict(grid_points)\n",
    "class_labels = class_labels.reshape(x_axis.shape)\n",
    "print(class_labels.shape)"
   ]
  },
  {
   "cell_type": "code",
   "execution_count": 37,
   "metadata": {
    "collapsed": false
   },
   "outputs": [
    {
     "data": {
      "image/png": "[encoded data removed]",
      "text/plain": [
       "<matplotlib.figure.Figure at 0x11f6cfa20>"
      ]
     },
     "metadata": {},
     "output_type": "display_data"
    }
   ],
   "source": [
    "from matplotlib.colors import ListedColormap\n",
    "import matplotlib.pyplot as plt\n",
    "%matplotlib inline\n",
    "\n",
    "markers = ('o','^')\n",
    "\n",
    "colors=('red','lightgreen')\n",
    "\n",
    "cmap=ListedColormap(colors)\n",
    "\n",
    "labels=('setosa','versicolor')\n",
    "\n",
    "for i, n in enumerate(np.unique(y)):\n",
    "    plt.scatter(x=X_train[y_train==n,0],\n",
    "               y=X_train[y_train==n,1],\n",
    "               c=cmap(i),\n",
    "               marker=markers[i],\n",
    "               s=70,\n",
    "               edgecolor='',\n",
    "               label=labels[i])\n",
    "    \n",
    "plt.legend(loc='lower right')\n",
    "\n",
    "plt.xlim(x_axis.min(),x_axis.max())\n",
    "plt.ylim(y_axis.min(),y_axis.max())\n",
    "\n",
    "# contourfメソッドを使って領域を塗りつぶす\n",
    "plt.contourf(x_axis, y_axis, class_labels, alpha=0.3, cmap=cmap)\n",
    "\n",
    "plt.xlabel('Petal Legend')\n",
    "plt.ylabel('Petal Width')\n",
    "plt.show()"
   ]
  },
  {
   "cell_type": "code",
   "execution_count": null,
   "metadata": {
    "collapsed": true
   },
   "outputs": [],
   "source": []
  }
 ],
 "metadata": {
  "kernelspec": {
   "display_name": "Python 3",
   "language": "python",
   "name": "python3"
  },
  "language_info": {
   "codemirror_mode": {
    "name": "ipython",
    "version": 3
   },
   "file_extension": ".py",
   "mimetype": "text/x-python",
   "name": "python",
   "nbconvert_exporter": "python",
   "pygments_lexer": "ipython3",
   "version": "3.5.1"
  }
 },
 "nbformat": 4,
 "nbformat_minor": 0
}
