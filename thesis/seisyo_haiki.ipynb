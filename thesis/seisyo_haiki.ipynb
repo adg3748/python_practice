{
 "cells": [
  {
   "cell_type": "code",
   "execution_count": null,
   "metadata": {},
   "outputs": [],
   "source": [
    "%matplotlib inline\n",
    "\n",
    "import pandas as pd\n",
    "\n",
    "file = pd.read_csv('WEOApr2018all.csv')\n",
    "file.shape"
   ]
  },
  {
   "cell_type": "code",
   "execution_count": null,
   "metadata": {},
   "outputs": [],
   "source": [
    "features = []\n",
    "k=0\n",
    "\n",
    "for j in range(1,47):\n",
    "\n",
    "        subject = file.iloc[j,1]\n",
    "        feature=file.loc[file['WEO Subject Code']==subject]\n",
    "        feature=feature.loc[:,'2015']\n",
    "\n",
    "        for i in range(feature.shape[0]): # 全ての数字を文字列に変換\n",
    "                feature.iloc[i]=str(feature.iloc[i])\n",
    "\n",
    "        for i in range(feature.shape[0]): # 文字列中のカンマを削除\n",
    "                feature.iloc[i]=feature.iloc[i].replace(\",\",\"\")\n",
    "                feature.iloc[i]=feature.iloc[i].replace(\"--\",\"nan\")\n",
    "\n",
    "        import numpy as np\n",
    "        feature = feature.astype(np.float64) # 浮動小数に変換\n",
    "\n",
    "        feature = feature.fillna(feature.median())\n",
    "\n",
    "        features.append(feature)\n",
    "        k += 1\n",
    "        print(k)\n",
    "        \n",
    "print(features)"
   ]
  },
  {
   "cell_type": "code",
   "execution_count": null,
   "metadata": {},
   "outputs": [],
   "source": []
  },
  {
   "cell_type": "code",
   "execution_count": null,
   "metadata": {},
   "outputs": [],
   "source": [
    "# subject = file.iloc[11,1]\n",
    "# feature=file.loc[file['WEO Subject Code']==subject]\n",
    "# feature=feature.loc[:,'2015']\n",
    "\n",
    "# for i in range(feature.shape[0]): # 全ての数字を文字列に変換\n",
    "#         feature.iloc[i]=str(feature.iloc[i])\n",
    "\n",
    "# for i in range(feature.shape[0]): # 文字列中のカンマを削除\n",
    "#         feature.iloc[i]=feature.iloc[i].replace(\",\",\"\")\n",
    "#         feature.iloc[i]=feature.iloc[i].replace(\"--\",\"\")\n",
    "#         feature.iloc[i]=feature.iloc[i].replace(\"nan\",\"\")\n",
    "\n",
    "# import numpy as np\n",
    "# feature = feature.astype(np.float64) # 浮動小数に変換\n",
    "\n",
    "# feature = feature.fillna(feature.median())\n",
    "        \n",
    "# print(feature)"
   ]
  },
  {
   "cell_type": "code",
   "execution_count": null,
   "metadata": {},
   "outputs": [],
   "source": [
    "# subject = file.iloc[11,1]\n",
    "# feature=file.loc[file['WEO Subject Code']==subject]\n",
    "# feature=feature.loc[:,'2015']\n",
    "\n",
    "# for i in range(feature.shape[0]): # 全ての数字を文字列に変換\n",
    "#         feature.iloc[i]=str(feature.iloc[i])\n",
    "\n",
    "# for i in range(feature.shape[0]): # 文字列中のカンマを削除\n",
    "#         feature.iloc[i]=feature.iloc[i].replace(\",\",\"\")\n",
    "#         feature.iloc[i]=feature.iloc[i].replace(\"--\",\"\")\n",
    "#         feature.iloc[i]=feature.iloc[i].replace(\"nan\",\"\")\n",
    "\n",
    "# print(feature)"
   ]
  },
  {
   "cell_type": "code",
   "execution_count": null,
   "metadata": {},
   "outputs": [],
   "source": []
  },
  {
   "cell_type": "code",
   "execution_count": null,
   "metadata": {},
   "outputs": [],
   "source": []
  }
 ],
 "metadata": {
  "kernelspec": {
   "display_name": "Python 3",
   "language": "python",
   "name": "python3"
  },
  "language_info": {
   "codemirror_mode": {
    "name": "ipython",
    "version": 3
   },
   "file_extension": ".py",
   "mimetype": "text/x-python",
   "name": "python",
   "nbconvert_exporter": "python",
   "pygments_lexer": "ipython3",
   "version": "3.6.4"
  }
 },
 "nbformat": 4,
 "nbformat_minor": 2
}
