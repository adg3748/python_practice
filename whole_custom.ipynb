{
 "cells": [
  {
   "cell_type": "code",
   "execution_count": 15,
   "metadata": {
    "collapsed": false
   },
   "outputs": [
    {
     "data": {
      "text/html": [
       "<div>\n",
       "<table border=\"1\" class=\"dataframe\">\n",
       "  <thead>\n",
       "    <tr style=\"text-align: right;\">\n",
       "      <th></th>\n",
       "      <th>Channel</th>\n",
       "      <th>Region</th>\n",
       "      <th>Fresh</th>\n",
       "      <th>Milk</th>\n",
       "      <th>Grocery</th>\n",
       "      <th>Frozen</th>\n",
       "      <th>Detergents_Paper</th>\n",
       "      <th>Delicassen</th>\n",
       "    </tr>\n",
       "  </thead>\n",
       "  <tbody>\n",
       "    <tr>\n",
       "      <th>0</th>\n",
       "      <td>2</td>\n",
       "      <td>3</td>\n",
       "      <td>12669</td>\n",
       "      <td>9656</td>\n",
       "      <td>7561</td>\n",
       "      <td>214</td>\n",
       "      <td>2674</td>\n",
       "      <td>1338</td>\n",
       "    </tr>\n",
       "    <tr>\n",
       "      <th>1</th>\n",
       "      <td>2</td>\n",
       "      <td>3</td>\n",
       "      <td>7057</td>\n",
       "      <td>9810</td>\n",
       "      <td>9568</td>\n",
       "      <td>1762</td>\n",
       "      <td>3293</td>\n",
       "      <td>1776</td>\n",
       "    </tr>\n",
       "    <tr>\n",
       "      <th>2</th>\n",
       "      <td>2</td>\n",
       "      <td>3</td>\n",
       "      <td>6353</td>\n",
       "      <td>8808</td>\n",
       "      <td>7684</td>\n",
       "      <td>2405</td>\n",
       "      <td>3516</td>\n",
       "      <td>7844</td>\n",
       "    </tr>\n",
       "    <tr>\n",
       "      <th>3</th>\n",
       "      <td>1</td>\n",
       "      <td>3</td>\n",
       "      <td>13265</td>\n",
       "      <td>1196</td>\n",
       "      <td>4221</td>\n",
       "      <td>6404</td>\n",
       "      <td>507</td>\n",
       "      <td>1788</td>\n",
       "    </tr>\n",
       "    <tr>\n",
       "      <th>4</th>\n",
       "      <td>2</td>\n",
       "      <td>3</td>\n",
       "      <td>22615</td>\n",
       "      <td>5410</td>\n",
       "      <td>7198</td>\n",
       "      <td>3915</td>\n",
       "      <td>1777</td>\n",
       "      <td>5185</td>\n",
       "    </tr>\n",
       "  </tbody>\n",
       "</table>\n",
       "</div>"
      ],
      "text/plain": [
       "   Channel  Region  Fresh  Milk  Grocery  Frozen  Detergents_Paper  Delicassen\n",
       "0        2       3  12669  9656     7561     214              2674        1338\n",
       "1        2       3   7057  9810     9568    1762              3293        1776\n",
       "2        2       3   6353  8808     7684    2405              3516        7844\n",
       "3        1       3  13265  1196     4221    6404               507        1788\n",
       "4        2       3  22615  5410     7198    3915              1777        5185"
      ]
     },
     "execution_count": 15,
     "metadata": {},
     "output_type": "execute_result"
    }
   ],
   "source": [
    "%matplotlib inline\n",
    "import pandas as pd\n",
    "import numpy as np\n",
    "from sklearn.cluster import KMeans\n",
    "import matplotlib.pyplot as plt\n",
    "\n",
    "# 顧客(卸売業者)のデータセットの読み込み(販売経路、所在地、年間注文額)\n",
    "dataset = pd.read_csv(\"https://archive.ics.uci.edu/ml/machine-learning-databases/00292/Wholesale%20customers%20data.csv\")\n",
    "dataset.head()"
   ]
  },
  {
   "cell_type": "code",
   "execution_count": 2,
   "metadata": {
    "collapsed": false
   },
   "outputs": [
    {
     "data": {
      "text/html": [
       "<div>\n",
       "<table border=\"1\" class=\"dataframe\">\n",
       "  <thead>\n",
       "    <tr style=\"text-align: right;\">\n",
       "      <th></th>\n",
       "      <th>Fresh</th>\n",
       "      <th>Milk</th>\n",
       "      <th>Grocery</th>\n",
       "      <th>Frozen</th>\n",
       "      <th>Detergents_Paper</th>\n",
       "      <th>Delicassen</th>\n",
       "    </tr>\n",
       "  </thead>\n",
       "  <tbody>\n",
       "    <tr>\n",
       "      <th>0</th>\n",
       "      <td>12669</td>\n",
       "      <td>9656</td>\n",
       "      <td>7561</td>\n",
       "      <td>214</td>\n",
       "      <td>2674</td>\n",
       "      <td>1338</td>\n",
       "    </tr>\n",
       "    <tr>\n",
       "      <th>1</th>\n",
       "      <td>7057</td>\n",
       "      <td>9810</td>\n",
       "      <td>9568</td>\n",
       "      <td>1762</td>\n",
       "      <td>3293</td>\n",
       "      <td>1776</td>\n",
       "    </tr>\n",
       "    <tr>\n",
       "      <th>2</th>\n",
       "      <td>6353</td>\n",
       "      <td>8808</td>\n",
       "      <td>7684</td>\n",
       "      <td>2405</td>\n",
       "      <td>3516</td>\n",
       "      <td>7844</td>\n",
       "    </tr>\n",
       "    <tr>\n",
       "      <th>3</th>\n",
       "      <td>13265</td>\n",
       "      <td>1196</td>\n",
       "      <td>4221</td>\n",
       "      <td>6404</td>\n",
       "      <td>507</td>\n",
       "      <td>1788</td>\n",
       "    </tr>\n",
       "    <tr>\n",
       "      <th>4</th>\n",
       "      <td>22615</td>\n",
       "      <td>5410</td>\n",
       "      <td>7198</td>\n",
       "      <td>3915</td>\n",
       "      <td>1777</td>\n",
       "      <td>5185</td>\n",
       "    </tr>\n",
       "  </tbody>\n",
       "</table>\n",
       "</div>"
      ],
      "text/plain": [
       "   Fresh  Milk  Grocery  Frozen  Detergents_Paper  Delicassen\n",
       "0  12669  9656     7561     214              2674        1338\n",
       "1   7057  9810     9568    1762              3293        1776\n",
       "2   6353  8808     7684    2405              3516        7844\n",
       "3  13265  1196     4221    6404               507        1788\n",
       "4  22615  5410     7198    3915              1777        5185"
      ]
     },
     "execution_count": 2,
     "metadata": {},
     "output_type": "execute_result"
    }
   ],
   "source": [
    "# カテゴリ変数はクラスタリングでは扱えないため削除\n",
    "del(dataset['Channel'])\n",
    "del(dataset['Region'])\n",
    "dataset.head()"
   ]
  },
  {
   "cell_type": "code",
   "execution_count": 8,
   "metadata": {
    "collapsed": false
   },
   "outputs": [
    {
     "name": "stdout",
     "output_type": "stream",
     "text": [
      "X_stdのshape (440, 6)\n",
      "-8.07434927e-18\n",
      "1.0\n"
     ]
    }
   ],
   "source": [
    "# 全ての変数における1を同等に扱えるようにするため、標準化する必要がある\n",
    "from sklearn.preprocessing import StandardScaler\n",
    "std = StandardScaler()\n",
    "# fit_transformメソッドでdatasetの平均や標準偏差など統計情報の取得と書き換えを同時に\n",
    "X_std = std.fit_transform(dataset)\n",
    "print('X_stdのshape', X_std.shape)\n",
    "print(X_std.mean()) # e-18は10の-18乗の意\n",
    "print(X_std.std())\n",
    "# 標準化は変数ごとに行われていることに注意"
   ]
  },
  {
   "cell_type": "code",
   "execution_count": 9,
   "metadata": {
    "collapsed": false
   },
   "outputs": [
    {
     "name": "stdout",
     "output_type": "stream",
     "text": [
      "平均 -8.07434927e-18\n",
      "標準偏差 1.0 \n",
      "\n",
      "平均 2.422304781e-17\n",
      "標準偏差 1.0 \n",
      "\n",
      "平均 3.6334571715e-17\n",
      "標準偏差 1.0 \n",
      "\n",
      "平均 -4.037174635e-17\n",
      "標準偏差 1.0 \n",
      "\n",
      "平均 0.0\n",
      "標準偏差 1.0 \n",
      "\n",
      "平均 -3.43159843975e-17\n",
      "標準偏差 1.0 \n",
      "\n"
     ]
    }
   ],
   "source": [
    "# 標準化が変数ごとに行われていることの確認\n",
    "num = X_std.shape[1]-1\n",
    "while num >-1:\n",
    "    # 平均と標準偏差を計算\n",
    "    print('平均',X_std[:,num].mean())\n",
    "    print('標準偏差',X_std[:,num].std(), '\\n')\n",
    "    num -= 1"
   ]
  },
  {
   "cell_type": "code",
   "execution_count": 10,
   "metadata": {
    "collapsed": false
   },
   "outputs": [
    {
     "data": {
      "image/png": "[encoded data removed]",
      "text/plain": [
       "<matplotlib.figure.Figure at 0x1201c7908>"
      ]
     },
     "metadata": {},
     "output_type": "display_data"
    }
   ],
   "source": [
    "# エルボー法を使って最適なクラスタ数を調べる\n",
    "distances = [] # 各クラスター数ごとのsseを格納しておくための配列を定義\n",
    "for i in range(1,11): # 10回for文を繰り返す\n",
    "    km = KMeans(n_clusters=i,\n",
    "               random_state=0)\n",
    "    km.fit(X_std)\n",
    "    distances.append(km.inertia_) # sseを配列に追加\n",
    "plt.plot(range(1,11), distances, marker='.')\n",
    "plt.xlabel('number of clusters')\n",
    "plt.ylabel('sum of distance')\n",
    "plt.title('elbow method')\n",
    "plt.show()"
   ]
  },
  {
   "cell_type": "code",
   "execution_count": 11,
   "metadata": {
    "collapsed": false
   },
   "outputs": [
    {
     "name": "stdout",
     "output_type": "stream",
     "text": [
      "[3 1 1 3 0 3 3 3 3 1 1 3 0 1 1 3 1 3 3 3 3 3 0 1 1 3 3 3 1 0 3 3 3 0 3 3 0\n",
      " 1 1 0 0 3 1 1 3 1 1 4 1 1 3 3 0 1 0 3 4 1 3 3 3 4 3 1 3 4 3 1 3 3 0 1 3 0\n",
      " 3 3 3 1 3 3 3 1 1 3 3 4 4 0 3 0 3 3 4 0 1 3 3 3 3 3 1 1 3 0 3 3 1 1 3 1 3\n",
      " 1 0 3 3 3 3 3 3 3 3 3 3 3 0 0 0 3 3 0 3 3 3 3 3 3 3 3 3 3 3 0 0 3 3 1 3 3\n",
      " 3 0 3 3 3 3 3 1 1 3 3 1 1 3 3 1 3 1 1 3 3 3 1 1 3 1 3 1 0 3 3 3 3 0 1 2 3\n",
      " 3 3 3 1 1 3 3 3 1 3 0 0 1 3 3 1 1 0 3 3 1 3 3 3 1 3 4 3 3 1 1 1 3 1 3 3 1\n",
      " 3 3 3 3 3 3 3 3 3 3 3 3 3 3 3 3 3 0 0 3 3 3 1 1 3 3 3 3 3 4 3 0 1 0 3 3 0\n",
      " 0 3 3 3 3 1 1 1 3 1 3 3 3 3 0 3 3 0 0 3 3 3 3 0 0 0 0 3 3 3 0 3 3 3 1 3 3\n",
      " 3 3 3 3 3 1 1 1 1 1 1 3 3 1 3 0 1 3 3 1 3 3 3 1 3 3 3 3 3 0 3 3 3 3 3 1 3\n",
      " 4 0 0 3 3 3 3 1 1 3 1 3 3 1 0 3 1 3 1 3 1 3 3 3 1 3 3 3 3 3 3 3 3 3 3 3 3\n",
      " 0 0 3 3 3 3 1 0 3 3 0 0 0 3 1 3 3 3 3 3 3 3 3 0 3 3 1 3 3 3 3 0 3 3 3 3 0\n",
      " 1 3 3 3 3 3 0 3 3 1 3 1 3 1 3 3 3 3 0 1 0 3 3 3 0 3 3 3 0 0 1 3 3]\n"
     ]
    }
   ],
   "source": [
    "#肘の部分がわかりづらいが5と仮定して進める\n",
    "# データセットのクラスタリングへ\n",
    "km = KMeans(n_clusters=5, random_state=0)\n",
    "y = km.fit_predict(X_std)\n",
    "print(y)"
   ]
  },
  {
   "cell_type": "code",
   "execution_count": 12,
   "metadata": {
    "collapsed": false
   },
   "outputs": [
    {
     "name": "stdout",
     "output_type": "stream",
     "text": [
      "[[  1.67032632e+00  -1.07977956e-01  -2.49633515e-01   1.09385904e+00\n",
      "   -4.17830521e-01   2.58987677e-01]\n",
      " [ -4.83027024e-01   6.87234312e-01   9.29712635e-01  -3.19705333e-01\n",
      "    9.12956880e-01   1.61406680e-01]\n",
      " [  1.96681731e+00   5.17550306e+00   1.28721685e+00   6.90059988e+00\n",
      "   -5.54861977e-01   1.64784475e+01]\n",
      " [ -2.37815908e-01  -3.79628084e-01  -4.30402618e-01  -1.67549707e-01\n",
      "   -3.91270763e-01  -1.96169591e-01]\n",
      " [  3.13830315e-01   3.92190593e+00   4.27561037e+00  -3.57419457e-03\n",
      "    4.61816580e+00   5.03365339e-01]]\n",
      "(5, 6)\n"
     ]
    }
   ],
   "source": [
    "centroids = km.cluster_centers_\n",
    "print(centroids)\n",
    "print(centroids.shape)"
   ]
  },
  {
   "cell_type": "code",
   "execution_count": 14,
   "metadata": {
    "collapsed": false
   },
   "outputs": [
    {
     "data": {
      "image/png": "[encoded data removed]",
      "text/plain": [
       "<matplotlib.figure.Figure at 0x122830ac8>"
      ]
     },
     "metadata": {},
     "output_type": "display_data"
    }
   ],
   "source": [
    "# 重心値から棒グラフを作成する\n",
    "pd_centroids = pd.DataFrame(centroids, columns=dataset.columns)\n",
    "pd_centroids.plot.bar()\n",
    "plt.show()"
   ]
  },
  {
   "cell_type": "code",
   "execution_count": 16,
   "metadata": {
    "collapsed": false
   },
   "outputs": [
    {
     "data": {
      "text/plain": [
       "Counter({0: 63, 1: 95, 2: 1, 3: 271, 4: 10})"
      ]
     },
     "execution_count": 16,
     "metadata": {},
     "output_type": "execute_result"
    }
   ],
   "source": [
    "# クラスタ内の分布数を確認\n",
    "from collections import Counter\n",
    "Counter(y)"
   ]
  },
  {
   "cell_type": "code",
   "execution_count": 17,
   "metadata": {
    "collapsed": true
   },
   "outputs": [],
   "source": [
    "# クラスタ2は外れ値1つしか含まれない例外的なクラスタ\n",
    "# クラスタ4に属する企業は他の企業があまり仕入れてないdetergents_paperを多く仕入れている\n",
    "# クラスタ0は冷凍食品の仕入れが他と比べると大きい"
   ]
  },
  {
   "cell_type": "code",
   "execution_count": null,
   "metadata": {
    "collapsed": true
   },
   "outputs": [],
   "source": []
  }
 ],
 "metadata": {
  "kernelspec": {
   "display_name": "Python 3",
   "language": "python",
   "name": "python3"
  },
  "language_info": {
   "codemirror_mode": {
    "name": "ipython",
    "version": 3
   },
   "file_extension": ".py",
   "mimetype": "text/x-python",
   "name": "python",
   "nbconvert_exporter": "python",
   "pygments_lexer": "ipython3",
   "version": "3.5.1"
  }
 },
 "nbformat": 4,
 "nbformat_minor": 0
}
